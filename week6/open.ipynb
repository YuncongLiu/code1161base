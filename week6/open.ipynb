{
 "cells": [
  {
   "cell_type": "code",
   "execution_count": 2,
   "metadata": {
    "collapsed": true,
    "deletable": true,
    "editable": true
   },
   "outputs": [],
   "source": [
    "import matplotlib\n",
    "import matplotlib.pyplot as plt\n",
    "import numpy as np\n",
    "import pandas as pd\n",
    "import os"
   ]
  },
  {
   "cell_type": "code",
   "execution_count": 3,
   "metadata": {
    "collapsed": true,
    "deletable": true,
    "editable": true
   },
   "outputs": [],
   "source": [
    "%matplotlib inline\n",
    "plt.rcParams['figure.figsize'] = (20, 10)"
   ]
  },
  {
   "cell_type": "code",
   "execution_count": 4,
   "metadata": {
    "collapsed": true,
    "deletable": true,
    "editable": true
   },
   "outputs": [],
   "source": [
    "saved_style_state = matplotlib.rcParams.copy()"
   ]
  },
  {
   "cell_type": "code",
   "execution_count": 5,
   "metadata": {
    "collapsed": false,
    "deletable": true,
    "editable": true
   },
   "outputs": [
    {
     "name": "stdout",
     "output_type": "stream",
     "text": [
      "loading from file\n",
      "done\n"
     ]
    }
   ],
   "source": [
    "os.path.isfile(\"Outcomes_Scores.csv\")\n",
    "filepath = \"Outcomes_Scores.csv\"\n",
    "scores = pd.read_csv(filepath)\n",
    "print \"loading from file\"\n",
    "print \"done\""
   ]
  },
  {
   "cell_type": "code",
   "execution_count": 6,
   "metadata": {
    "collapsed": false,
    "deletable": true,
    "editable": true
   },
   "outputs": [
    {
     "name": "stdout",
     "output_type": "stream",
     "text": [
      "loading from file\n",
      "done\n"
     ]
    }
   ],
   "source": [
    "os.path.isfile(\"SD_Energy.csv\")\n",
    "filepath = \"SD_Energy.csv\"\n",
    "energy = pd.read_csv(filepath)\n",
    "print \"loading from file\"\n",
    "print \"done\""
   ]
  },
  {
   "cell_type": "code",
   "execution_count": 7,
   "metadata": {
    "collapsed": false,
    "deletable": true,
    "editable": true
   },
   "outputs": [
    {
     "name": "stdout",
     "output_type": "stream",
     "text": [
      "loading from file\n",
      "done\n"
     ]
    }
   ],
   "source": [
    "os.path.isfile(\"SD_Water.csv\")\n",
    "filepath = \"SD_Water.csv\"\n",
    "water = pd.read_csv(filepath)\n",
    "print \"loading from file\"\n",
    "print \"done\""
   ]
  },
  {
   "cell_type": "code",
   "execution_count": 8,
   "metadata": {
    "collapsed": false,
    "deletable": true,
    "editable": true
   },
   "outputs": [
    {
     "data": {
      "text/plain": [
       "Index([u'Id', u'CERTIFICATE DATE', u'REGION', u'LGA', u'POSTCODE', u'SUBURB',\n",
       "       u'DATA SET', u'DWELLING TYPE', u'RAINWATER TANK SIZE (litres)',\n",
       "       u'STORM WATER TANK SIZE (litres)',\n",
       "       u'RAINWATER TANK ROOF COLLECTION AREA (SqM)', u'TOILET WATER SOURCE',\n",
       "       u'GARDEN AND LAWN WATER SOURCE', u'LAUNDRY WATER SOURCE',\n",
       "       u'HOT WATER SYSTEM WATER SOURCE', u'ALL HOUSE WATER SOURCE',\n",
       "       u'SHOWER WELS RATING', u'BATHROOM TAPS WELS RATING',\n",
       "       u'TOILET WELS RATING', u'KITCHEN TAPS WELS RATING',\n",
       "       u'POOL SIZE (kilo litres)', u'SPA SIZE (kilo litres)'],\n",
       "      dtype='object')"
      ]
     },
     "execution_count": 8,
     "metadata": {},
     "output_type": "execute_result"
    }
   ],
   "source": [
    "water.columns"
   ]
  },
  {
   "cell_type": "code",
   "execution_count": 9,
   "metadata": {
    "collapsed": false,
    "deletable": true,
    "editable": true
   },
   "outputs": [
    {
     "data": {
      "text/html": [
       "<div>\n",
       "<table border=\"1\" class=\"dataframe\">\n",
       "  <thead>\n",
       "    <tr style=\"text-align: right;\">\n",
       "      <th></th>\n",
       "      <th>Id</th>\n",
       "      <th>CERTIFICATE DATE</th>\n",
       "      <th>REGION</th>\n",
       "      <th>LGA</th>\n",
       "      <th>POSTCODE</th>\n",
       "      <th>SUBURB</th>\n",
       "      <th>DATA SET</th>\n",
       "      <th>DWELLING TYPE</th>\n",
       "      <th>RAINWATER TANK SIZE (litres)</th>\n",
       "      <th>STORM WATER TANK SIZE (litres)</th>\n",
       "      <th>...</th>\n",
       "      <th>GARDEN AND LAWN WATER SOURCE</th>\n",
       "      <th>LAUNDRY WATER SOURCE</th>\n",
       "      <th>HOT WATER SYSTEM WATER SOURCE</th>\n",
       "      <th>ALL HOUSE WATER SOURCE</th>\n",
       "      <th>SHOWER WELS RATING</th>\n",
       "      <th>BATHROOM TAPS WELS RATING</th>\n",
       "      <th>TOILET WELS RATING</th>\n",
       "      <th>KITCHEN TAPS WELS RATING</th>\n",
       "      <th>POOL SIZE (kilo litres)</th>\n",
       "      <th>SPA SIZE (kilo litres)</th>\n",
       "    </tr>\n",
       "  </thead>\n",
       "  <tbody>\n",
       "    <tr>\n",
       "      <th>0</th>\n",
       "      <td>14616</td>\n",
       "      <td>5-Aug-05</td>\n",
       "      <td>Hunter</td>\n",
       "      <td>Lake Macquarie City Council</td>\n",
       "      <td>2285</td>\n",
       "      <td>GLENDALE</td>\n",
       "      <td>single dwellings</td>\n",
       "      <td>Single dwelling houses</td>\n",
       "      <td>2500.0</td>\n",
       "      <td>NaN</td>\n",
       "      <td>...</td>\n",
       "      <td>rainwater tank</td>\n",
       "      <td>rainwater tank</td>\n",
       "      <td>town water supply</td>\n",
       "      <td>town water supply</td>\n",
       "      <td>3 star</td>\n",
       "      <td>6 star</td>\n",
       "      <td>3 star</td>\n",
       "      <td>3 star</td>\n",
       "      <td>NaN</td>\n",
       "      <td>NaN</td>\n",
       "    </tr>\n",
       "    <tr>\n",
       "      <th>1</th>\n",
       "      <td>14663</td>\n",
       "      <td>4-Aug-05</td>\n",
       "      <td>Murray/Murrumbidgee</td>\n",
       "      <td>Palerang Council</td>\n",
       "      <td>2621</td>\n",
       "      <td>BUNGENDORE</td>\n",
       "      <td>single dwellings</td>\n",
       "      <td>Single dwelling houses</td>\n",
       "      <td>22000.0</td>\n",
       "      <td>NaN</td>\n",
       "      <td>...</td>\n",
       "      <td>greywater system</td>\n",
       "      <td>town water supply</td>\n",
       "      <td>rainwater tank</td>\n",
       "      <td>town water supply</td>\n",
       "      <td>3 star</td>\n",
       "      <td>6 star</td>\n",
       "      <td>3 star</td>\n",
       "      <td>3 star</td>\n",
       "      <td>NaN</td>\n",
       "      <td>NaN</td>\n",
       "    </tr>\n",
       "    <tr>\n",
       "      <th>2</th>\n",
       "      <td>14708</td>\n",
       "      <td>5-Aug-05</td>\n",
       "      <td>Hunter</td>\n",
       "      <td>Lake Macquarie City Council</td>\n",
       "      <td>2281</td>\n",
       "      <td>SWANSEA</td>\n",
       "      <td>single dwellings</td>\n",
       "      <td>Single dwelling houses</td>\n",
       "      <td>6000.0</td>\n",
       "      <td>NaN</td>\n",
       "      <td>...</td>\n",
       "      <td>rainwater tank</td>\n",
       "      <td>rainwater tank</td>\n",
       "      <td>town water supply</td>\n",
       "      <td>town water supply</td>\n",
       "      <td>3 star</td>\n",
       "      <td>6 star</td>\n",
       "      <td>3 star</td>\n",
       "      <td>3 star</td>\n",
       "      <td>NaN</td>\n",
       "      <td>NaN</td>\n",
       "    </tr>\n",
       "    <tr>\n",
       "      <th>3</th>\n",
       "      <td>14943</td>\n",
       "      <td>8-Aug-05</td>\n",
       "      <td>Sydney</td>\n",
       "      <td>Penrith City Council</td>\n",
       "      <td>2745</td>\n",
       "      <td>WALLACIA</td>\n",
       "      <td>single dwellings</td>\n",
       "      <td>Single dwelling houses</td>\n",
       "      <td>7500.0</td>\n",
       "      <td>NaN</td>\n",
       "      <td>...</td>\n",
       "      <td>rainwater tank</td>\n",
       "      <td>rainwater tank</td>\n",
       "      <td>town water supply</td>\n",
       "      <td>town water supply</td>\n",
       "      <td>3 star</td>\n",
       "      <td>5 star</td>\n",
       "      <td>1 star</td>\n",
       "      <td>please select</td>\n",
       "      <td>NaN</td>\n",
       "      <td>NaN</td>\n",
       "    </tr>\n",
       "    <tr>\n",
       "      <th>4</th>\n",
       "      <td>16571</td>\n",
       "      <td>25-Aug-05</td>\n",
       "      <td>Southern</td>\n",
       "      <td>Shellharbour City Council</td>\n",
       "      <td>2529</td>\n",
       "      <td>SHELLHARBOUR SQUARE</td>\n",
       "      <td>single dwellings</td>\n",
       "      <td>Multi-dwelling houses</td>\n",
       "      <td>3000.0</td>\n",
       "      <td>NaN</td>\n",
       "      <td>...</td>\n",
       "      <td>rainwater tank</td>\n",
       "      <td>town water supply</td>\n",
       "      <td>town water supply</td>\n",
       "      <td>town water supply</td>\n",
       "      <td>3 star</td>\n",
       "      <td>6 star</td>\n",
       "      <td>3 star</td>\n",
       "      <td>3 star</td>\n",
       "      <td>NaN</td>\n",
       "      <td>NaN</td>\n",
       "    </tr>\n",
       "  </tbody>\n",
       "</table>\n",
       "<p>5 rows × 22 columns</p>\n",
       "</div>"
      ],
      "text/plain": [
       "      Id CERTIFICATE DATE               REGION                          LGA  \\\n",
       "0  14616         5-Aug-05               Hunter  Lake Macquarie City Council   \n",
       "1  14663         4-Aug-05  Murray/Murrumbidgee             Palerang Council   \n",
       "2  14708         5-Aug-05               Hunter  Lake Macquarie City Council   \n",
       "3  14943         8-Aug-05               Sydney         Penrith City Council   \n",
       "4  16571        25-Aug-05             Southern    Shellharbour City Council   \n",
       "\n",
       "   POSTCODE               SUBURB          DATA SET           DWELLING TYPE  \\\n",
       "0      2285             GLENDALE  single dwellings  Single dwelling houses   \n",
       "1      2621           BUNGENDORE  single dwellings  Single dwelling houses   \n",
       "2      2281              SWANSEA  single dwellings  Single dwelling houses   \n",
       "3      2745             WALLACIA  single dwellings  Single dwelling houses   \n",
       "4      2529  SHELLHARBOUR SQUARE  single dwellings   Multi-dwelling houses   \n",
       "\n",
       "   RAINWATER TANK SIZE (litres)  STORM WATER TANK SIZE (litres)  \\\n",
       "0                        2500.0                             NaN   \n",
       "1                       22000.0                             NaN   \n",
       "2                        6000.0                             NaN   \n",
       "3                        7500.0                             NaN   \n",
       "4                        3000.0                             NaN   \n",
       "\n",
       "           ...            GARDEN AND LAWN WATER SOURCE LAUNDRY WATER SOURCE  \\\n",
       "0          ...                          rainwater tank       rainwater tank   \n",
       "1          ...                        greywater system    town water supply   \n",
       "2          ...                          rainwater tank       rainwater tank   \n",
       "3          ...                          rainwater tank       rainwater tank   \n",
       "4          ...                          rainwater tank    town water supply   \n",
       "\n",
       "  HOT WATER SYSTEM WATER SOURCE ALL HOUSE WATER SOURCE SHOWER WELS RATING  \\\n",
       "0             town water supply      town water supply             3 star   \n",
       "1                rainwater tank      town water supply             3 star   \n",
       "2             town water supply      town water supply             3 star   \n",
       "3             town water supply      town water supply             3 star   \n",
       "4             town water supply      town water supply             3 star   \n",
       "\n",
       "  BATHROOM TAPS WELS RATING TOILET WELS RATING KITCHEN TAPS WELS RATING  \\\n",
       "0                    6 star             3 star                   3 star   \n",
       "1                    6 star             3 star                   3 star   \n",
       "2                    6 star             3 star                   3 star   \n",
       "3                    5 star             1 star            please select   \n",
       "4                    6 star             3 star                   3 star   \n",
       "\n",
       "  POOL SIZE (kilo litres) SPA SIZE (kilo litres)  \n",
       "0                     NaN                    NaN  \n",
       "1                     NaN                    NaN  \n",
       "2                     NaN                    NaN  \n",
       "3                     NaN                    NaN  \n",
       "4                     NaN                    NaN  \n",
       "\n",
       "[5 rows x 22 columns]"
      ]
     },
     "execution_count": 9,
     "metadata": {},
     "output_type": "execute_result"
    }
   ],
   "source": [
    "water.head()"
   ]
  },
  {
   "cell_type": "code",
   "execution_count": 10,
   "metadata": {
    "collapsed": false,
    "deletable": true,
    "editable": true
   },
   "outputs": [
    {
     "data": {
      "text/html": [
       "<div>\n",
       "<table border=\"1\" class=\"dataframe\">\n",
       "  <thead>\n",
       "    <tr style=\"text-align: right;\">\n",
       "      <th></th>\n",
       "      <th>Id</th>\n",
       "      <th>POSTCODE</th>\n",
       "      <th>RAINWATER TANK SIZE (litres)</th>\n",
       "      <th>STORM WATER TANK SIZE (litres)</th>\n",
       "      <th>RAINWATER TANK ROOF COLLECTION AREA (SqM)</th>\n",
       "      <th>POOL SIZE (kilo litres)</th>\n",
       "      <th>SPA SIZE (kilo litres)</th>\n",
       "    </tr>\n",
       "  </thead>\n",
       "  <tbody>\n",
       "    <tr>\n",
       "      <th>count</th>\n",
       "      <td>187881.000000</td>\n",
       "      <td>187881.000000</td>\n",
       "      <td>172567.000000</td>\n",
       "      <td>4588.000000</td>\n",
       "      <td>172631.000000</td>\n",
       "      <td>12029.000000</td>\n",
       "      <td>1318.000000</td>\n",
       "    </tr>\n",
       "    <tr>\n",
       "      <th>mean</th>\n",
       "      <td>190658.878966</td>\n",
       "      <td>2415.838174</td>\n",
       "      <td>9566.929087</td>\n",
       "      <td>8789.582125</td>\n",
       "      <td>197.293496</td>\n",
       "      <td>42.705863</td>\n",
       "      <td>3.758134</td>\n",
       "    </tr>\n",
       "    <tr>\n",
       "      <th>std</th>\n",
       "      <td>108992.009642</td>\n",
       "      <td>230.797414</td>\n",
       "      <td>20450.450151</td>\n",
       "      <td>26032.023801</td>\n",
       "      <td>548.117890</td>\n",
       "      <td>20.634678</td>\n",
       "      <td>2.906623</td>\n",
       "    </tr>\n",
       "    <tr>\n",
       "      <th>min</th>\n",
       "      <td>12134.000000</td>\n",
       "      <td>2000.000000</td>\n",
       "      <td>0.000000</td>\n",
       "      <td>0.000000</td>\n",
       "      <td>0.000000</td>\n",
       "      <td>0.040000</td>\n",
       "      <td>0.000000</td>\n",
       "    </tr>\n",
       "    <tr>\n",
       "      <th>25%</th>\n",
       "      <td>97409.000000</td>\n",
       "      <td>2199.000000</td>\n",
       "      <td>3000.000000</td>\n",
       "      <td>1387.500000</td>\n",
       "      <td>114.000000</td>\n",
       "      <td>30.000000</td>\n",
       "      <td>2.000000</td>\n",
       "    </tr>\n",
       "    <tr>\n",
       "      <th>50%</th>\n",
       "      <td>188082.000000</td>\n",
       "      <td>2428.000000</td>\n",
       "      <td>4000.000000</td>\n",
       "      <td>4000.000000</td>\n",
       "      <td>180.000000</td>\n",
       "      <td>40.000000</td>\n",
       "      <td>3.100000</td>\n",
       "    </tr>\n",
       "    <tr>\n",
       "      <th>75%</th>\n",
       "      <td>268683.000000</td>\n",
       "      <td>2575.000000</td>\n",
       "      <td>5000.000000</td>\n",
       "      <td>9185.000000</td>\n",
       "      <td>250.000000</td>\n",
       "      <td>50.000000</td>\n",
       "      <td>5.000000</td>\n",
       "    </tr>\n",
       "    <tr>\n",
       "      <th>max</th>\n",
       "      <td>386489.000000</td>\n",
       "      <td>3644.000000</td>\n",
       "      <td>999999.000000</td>\n",
       "      <td>999999.000000</td>\n",
       "      <td>213023.000000</td>\n",
       "      <td>450.000000</td>\n",
       "      <td>60.000000</td>\n",
       "    </tr>\n",
       "  </tbody>\n",
       "</table>\n",
       "</div>"
      ],
      "text/plain": [
       "                  Id       POSTCODE  RAINWATER TANK SIZE (litres)  \\\n",
       "count  187881.000000  187881.000000                 172567.000000   \n",
       "mean   190658.878966    2415.838174                   9566.929087   \n",
       "std    108992.009642     230.797414                  20450.450151   \n",
       "min     12134.000000    2000.000000                      0.000000   \n",
       "25%     97409.000000    2199.000000                   3000.000000   \n",
       "50%    188082.000000    2428.000000                   4000.000000   \n",
       "75%    268683.000000    2575.000000                   5000.000000   \n",
       "max    386489.000000    3644.000000                 999999.000000   \n",
       "\n",
       "       STORM WATER TANK SIZE (litres)  \\\n",
       "count                     4588.000000   \n",
       "mean                      8789.582125   \n",
       "std                      26032.023801   \n",
       "min                          0.000000   \n",
       "25%                       1387.500000   \n",
       "50%                       4000.000000   \n",
       "75%                       9185.000000   \n",
       "max                     999999.000000   \n",
       "\n",
       "       RAINWATER TANK ROOF COLLECTION AREA (SqM)  POOL SIZE (kilo litres)  \\\n",
       "count                              172631.000000             12029.000000   \n",
       "mean                                  197.293496                42.705863   \n",
       "std                                   548.117890                20.634678   \n",
       "min                                     0.000000                 0.040000   \n",
       "25%                                   114.000000                30.000000   \n",
       "50%                                   180.000000                40.000000   \n",
       "75%                                   250.000000                50.000000   \n",
       "max                                213023.000000               450.000000   \n",
       "\n",
       "       SPA SIZE (kilo litres)  \n",
       "count             1318.000000  \n",
       "mean                 3.758134  \n",
       "std                  2.906623  \n",
       "min                  0.000000  \n",
       "25%                  2.000000  \n",
       "50%                  3.100000  \n",
       "75%                  5.000000  \n",
       "max                 60.000000  "
      ]
     },
     "execution_count": 10,
     "metadata": {},
     "output_type": "execute_result"
    }
   ],
   "source": [
    "water.describe()"
   ]
  },
  {
   "cell_type": "code",
   "execution_count": 11,
   "metadata": {
    "collapsed": false,
    "deletable": true,
    "editable": true
   },
   "outputs": [
    {
     "data": {
      "text/plain": [
       "<matplotlib.axes._subplots.AxesSubplot at 0x7ffab8824410>"
      ]
     },
     "execution_count": 11,
     "metadata": {},
     "output_type": "execute_result"
    },
    {
     "data": {
      "image/png": "[encoded data removed]",
      "text/plain": [
       "<matplotlib.figure.Figure at 0x7ffab87f9fd0>"
      ]
     },
     "metadata": {},
     "output_type": "display_data"
    }
   ],
   "source": [
    "roof_collect = water[\"RAINWATER TANK ROOF COLLECTION AREA (SqM)\"][water[\"RAINWATER TANK ROOF COLLECTION AREA (SqM)\"]<2000]\n",
    "roof_collect.hist()"
   ]
  },
  {
   "cell_type": "code",
   "execution_count": 12,
   "metadata": {
    "collapsed": false,
    "deletable": true,
    "editable": true
   },
   "outputs": [
    {
     "data": {
      "text/plain": [
       "<matplotlib.axes._subplots.AxesSubplot at 0x7ffab87044d0>"
      ]
     },
     "execution_count": 12,
     "metadata": {},
     "output_type": "execute_result"
    },
    {
     "data": {
      "image/png": "[encoded data removed]",
      "text/plain": [
       "<matplotlib.figure.Figure at 0x7ffab8ea6c10>"
      ]
     },
     "metadata": {},
     "output_type": "display_data"
    }
   ],
   "source": [
    "rain_tank_size = water[\"RAINWATER TANK SIZE (litres)\"][water[\"RAINWATER TANK SIZE (litres)\"]<80000]\n",
    "rain_tank_size.hist()"
   ]
  },
  {
   "cell_type": "code",
   "execution_count": 13,
   "metadata": {
    "collapsed": false,
    "deletable": true,
    "editable": true
   },
   "outputs": [
    {
     "data": {
      "image/png": "[encoded data removed]",
      "text/plain": [
       "<matplotlib.figure.Figure at 0x7ffab85a08d0>"
      ]
     },
     "metadata": {},
     "output_type": "display_data"
    }
   ],
   "source": [
    "plt.hist(rain_tank_size, bins=10, facecolor='blue', alpha=0.2)\n",
    "plt.hist(rain_tank_size, bins=50, facecolor='green', alpha=1)\n",
    "plt.show()"
   ]
  },
  {
   "cell_type": "code",
   "execution_count": 14,
   "metadata": {
    "collapsed": false,
    "deletable": true,
    "editable": true
   },
   "outputs": [
    {
     "data": {
      "text/plain": [
       "<matplotlib.axes._subplots.AxesSubplot at 0x7ffab809e190>"
      ]
     },
     "execution_count": 14,
     "metadata": {},
     "output_type": "execute_result"
    },
    {
     "data": {
      "image/png": "[encoded data removed]",
      "text/plain": [
       "<matplotlib.figure.Figure at 0x7ffab8621d10>"
      ]
     },
     "metadata": {},
     "output_type": "display_data"
    }
   ],
   "source": [
    "scores[\"WATER SCORE\"][scores[\"DATA SET\"] == \"single dwellings\"].hist()"
   ]
  },
  {
   "cell_type": "code",
   "execution_count": 15,
   "metadata": {
    "collapsed": false,
    "deletable": true,
    "editable": true
   },
   "outputs": [
    {
     "data": {
      "text/plain": [
       "<matplotlib.axes._subplots.AxesSubplot at 0x7ffab7fba7d0>"
      ]
     },
     "execution_count": 15,
     "metadata": {},
     "output_type": "execute_result"
    },
    {
     "data": {
      "image/png": "[encoded data removed]",
      "text/plain": [
       "<matplotlib.figure.Figure at 0x7ffab7fd4350>"
      ]
     },
     "metadata": {},
     "output_type": "display_data"
    }
   ],
   "source": [
    "scores[\"WATER TARGET\"].value_counts().plot(kind=\"bar\")"
   ]
  },
  {
   "cell_type": "code",
   "execution_count": 16,
   "metadata": {
    "collapsed": false,
    "deletable": true,
    "editable": true
   },
   "outputs": [
    {
     "data": {
      "text/plain": [
       "<matplotlib.axes._subplots.AxesSubplot at 0x7ffab7f0ff90>"
      ]
     },
     "execution_count": 16,
     "metadata": {},
     "output_type": "execute_result"
    },
    {
     "data": {
      "image/png": "[encoded data removed]",
      "text/plain": [
       "<matplotlib.figure.Figure at 0x7ffab7ea4ed0>"
      ]
     },
     "metadata": {},
     "output_type": "display_data"
    }
   ],
   "source": [
    "scores[\"ENERGY SCORE\"][scores[\"DATA SET\"] == \"single dwellings\"][scores[\"ENERGY SCORE\"]<110].hist()"
   ]
  },
  {
   "cell_type": "code",
   "execution_count": 24,
   "metadata": {
    "collapsed": false,
    "deletable": true,
    "editable": true
   },
   "outputs": [
    {
     "data": {
      "text/plain": [
       "<matplotlib.axes._subplots.AxesSubplot at 0x7ffab6817610>"
      ]
     },
     "execution_count": 24,
     "metadata": {},
     "output_type": "execute_result"
    },
    {
     "data": {
      "image/png": "[encoded data removed]",
      "text/plain": [
       "<matplotlib.figure.Figure at 0x7ffab690a4d0>"
      ]
     },
     "metadata": {},
     "output_type": "display_data"
    }
   ],
   "source": [
    "scores[\"ENERGY TARGET\"].value_counts().plot(kind=\"bar\")"
   ]
  },
  {
   "cell_type": "code",
   "execution_count": 18,
   "metadata": {
    "collapsed": false,
    "deletable": true,
    "editable": true
   },
   "outputs": [
    {
     "data": {
      "text/plain": [
       "<matplotlib.axes._subplots.AxesSubplot at 0x7ffab7ecdbd0>"
      ]
     },
     "execution_count": 18,
     "metadata": {},
     "output_type": "execute_result"
    },
    {
     "data": {
      "image/png": "[encoded data removed]",
      "text/plain": [
       "<matplotlib.figure.Figure at 0x7ffab75624d0>"
      ]
     },
     "metadata": {},
     "output_type": "display_data"
    }
   ],
   "source": [
    "water[\"HOT WATER SYSTEM WATER SOURCE\"].value_counts().plot(kind=\"bar\")"
   ]
  },
  {
   "cell_type": "code",
   "execution_count": 19,
   "metadata": {
    "collapsed": false,
    "deletable": true,
    "editable": true
   },
   "outputs": [
    {
     "data": {
      "text/plain": [
       "<matplotlib.axes._subplots.AxesSubplot at 0x7ffab7249290>"
      ]
     },
     "execution_count": 19,
     "metadata": {},
     "output_type": "execute_result"
    },
    {
     "data": {
      "image/png": "[encoded data removed]",
      "text/plain": [
       "<matplotlib.figure.Figure at 0x7ffab71e0110>"
      ]
     },
     "metadata": {},
     "output_type": "display_data"
    }
   ],
   "source": [
    "water[\"REGION\"].value_counts().plot(kind=\"bar\")"
   ]
  },
  {
   "cell_type": "code",
   "execution_count": 20,
   "metadata": {
    "collapsed": false,
    "deletable": true,
    "editable": true,
    "scrolled": false
   },
   "outputs": [
    {
     "data": {
      "text/html": [
       "<div>\n",
       "<table border=\"1\" class=\"dataframe\">\n",
       "  <thead>\n",
       "    <tr style=\"text-align: right;\">\n",
       "      <th></th>\n",
       "      <th>Id</th>\n",
       "      <th>CERTIFICATE DATE</th>\n",
       "      <th>REGION</th>\n",
       "      <th>LGA</th>\n",
       "      <th>POSTCODE</th>\n",
       "      <th>SUBURB</th>\n",
       "      <th>DATA SET</th>\n",
       "      <th>DWELLING TYPE</th>\n",
       "      <th>HOTWATER SYSTEM TYPE</th>\n",
       "      <th>HWS RATING (STARS/RECS)</th>\n",
       "      <th>...</th>\n",
       "      <th>HEATING RATING - BEDROOMS (STARS/RECS)</th>\n",
       "      <th>COOLING TYPE - BEDROOMS</th>\n",
       "      <th>COOLING RATING - BEDROOMS (STARS/RECS)</th>\n",
       "      <th>COOKTOP/OVEN SELECTION</th>\n",
       "      <th>PV (kW)</th>\n",
       "      <th>NUMBER LIVING AREAS LIT WITH ENERGY EFFICIENT LIGHTING</th>\n",
       "      <th>KITCHEN LIT WITH ENERGY EFFICIENT LIGHTING</th>\n",
       "      <th>NUMBER BEDROOMS LIT WITH ENERGY EFFICIENT LIGHTING</th>\n",
       "      <th>POOL HEATING SYSTEM</th>\n",
       "      <th>SPA HEATING SYSTEM</th>\n",
       "    </tr>\n",
       "  </thead>\n",
       "  <tbody>\n",
       "    <tr>\n",
       "      <th>0</th>\n",
       "      <td>134809</td>\n",
       "      <td>27-Mar-09</td>\n",
       "      <td>North Coast</td>\n",
       "      <td>Nambucca Shire Council</td>\n",
       "      <td>2447</td>\n",
       "      <td>WARRELL CREEK</td>\n",
       "      <td>single dwellings</td>\n",
       "      <td>Single dwelling houses</td>\n",
       "      <td>solar (electric boosted)</td>\n",
       "      <td>26 to 30 RECs</td>\n",
       "      <td>...</td>\n",
       "      <td>EER 3.0 - 3.5</td>\n",
       "      <td>3-phase airconditioning</td>\n",
       "      <td>EER 2.5 - 3.0</td>\n",
       "      <td>electric cooktop &amp; electric oven</td>\n",
       "      <td>NaN</td>\n",
       "      <td>NaN</td>\n",
       "      <td>NaN</td>\n",
       "      <td>NaN</td>\n",
       "      <td>please select</td>\n",
       "      <td>please select</td>\n",
       "    </tr>\n",
       "    <tr>\n",
       "      <th>1</th>\n",
       "      <td>114779</td>\n",
       "      <td>17-Jul-08</td>\n",
       "      <td>Hunter</td>\n",
       "      <td>Maitland City Council</td>\n",
       "      <td>2323</td>\n",
       "      <td>TENAMBIT</td>\n",
       "      <td>single dwellings</td>\n",
       "      <td>Single dwelling houses</td>\n",
       "      <td>gas storage</td>\n",
       "      <td>5 star</td>\n",
       "      <td>...</td>\n",
       "      <td>NaN</td>\n",
       "      <td>no active cooling system</td>\n",
       "      <td>NaN</td>\n",
       "      <td>electric cooktop &amp; electric oven</td>\n",
       "      <td>NaN</td>\n",
       "      <td>NaN</td>\n",
       "      <td>NaN</td>\n",
       "      <td>NaN</td>\n",
       "      <td>please select</td>\n",
       "      <td>please select</td>\n",
       "    </tr>\n",
       "    <tr>\n",
       "      <th>2</th>\n",
       "      <td>134394</td>\n",
       "      <td>26-Mar-09</td>\n",
       "      <td>Sydney</td>\n",
       "      <td>Hawkesbury City Council</td>\n",
       "      <td>2758</td>\n",
       "      <td>KURRAJONG</td>\n",
       "      <td>single dwellings</td>\n",
       "      <td>Single dwelling houses</td>\n",
       "      <td>solar (electric boosted)</td>\n",
       "      <td>41 to 45 RECs</td>\n",
       "      <td>...</td>\n",
       "      <td>NaN</td>\n",
       "      <td>no active cooling system</td>\n",
       "      <td>NaN</td>\n",
       "      <td>electric cooktop &amp; electric oven</td>\n",
       "      <td>NaN</td>\n",
       "      <td>3.0</td>\n",
       "      <td>True</td>\n",
       "      <td>6.0</td>\n",
       "      <td>no heating</td>\n",
       "      <td>please select</td>\n",
       "    </tr>\n",
       "    <tr>\n",
       "      <th>3</th>\n",
       "      <td>114545</td>\n",
       "      <td>15-Jul-08</td>\n",
       "      <td>Murray/Murrumbidgee</td>\n",
       "      <td>Upper Lachlan Council</td>\n",
       "      <td>2583</td>\n",
       "      <td>TUENA</td>\n",
       "      <td>single dwellings</td>\n",
       "      <td>Single dwelling houses</td>\n",
       "      <td>solar (electric boosted)</td>\n",
       "      <td>41 to 45 RECs</td>\n",
       "      <td>...</td>\n",
       "      <td>6 Star</td>\n",
       "      <td>ceiling fans</td>\n",
       "      <td>NaN</td>\n",
       "      <td>gas cooktop &amp; gas oven</td>\n",
       "      <td>NaN</td>\n",
       "      <td>2.0</td>\n",
       "      <td>True</td>\n",
       "      <td>4.0</td>\n",
       "      <td>please select</td>\n",
       "      <td>please select</td>\n",
       "    </tr>\n",
       "    <tr>\n",
       "      <th>4</th>\n",
       "      <td>126699</td>\n",
       "      <td>1-Dec-08</td>\n",
       "      <td>Hunter</td>\n",
       "      <td>Cessnock City Council</td>\n",
       "      <td>2320</td>\n",
       "      <td>TELARAH</td>\n",
       "      <td>single dwellings</td>\n",
       "      <td>Single dwelling houses</td>\n",
       "      <td>gas instantaneous</td>\n",
       "      <td>5 star</td>\n",
       "      <td>...</td>\n",
       "      <td>NaN</td>\n",
       "      <td>no active cooling system</td>\n",
       "      <td>NaN</td>\n",
       "      <td>gas cooktop &amp; electric oven</td>\n",
       "      <td>NaN</td>\n",
       "      <td>2.0</td>\n",
       "      <td>True</td>\n",
       "      <td>3.0</td>\n",
       "      <td>please select</td>\n",
       "      <td>please select</td>\n",
       "    </tr>\n",
       "  </tbody>\n",
       "</table>\n",
       "<p>5 rows × 25 columns</p>\n",
       "</div>"
      ],
      "text/plain": [
       "       Id CERTIFICATE DATE               REGION                      LGA  \\\n",
       "0  134809        27-Mar-09          North Coast   Nambucca Shire Council   \n",
       "1  114779        17-Jul-08               Hunter    Maitland City Council   \n",
       "2  134394        26-Mar-09               Sydney  Hawkesbury City Council   \n",
       "3  114545        15-Jul-08  Murray/Murrumbidgee    Upper Lachlan Council   \n",
       "4  126699         1-Dec-08               Hunter    Cessnock City Council   \n",
       "\n",
       "   POSTCODE         SUBURB          DATA SET           DWELLING TYPE  \\\n",
       "0      2447  WARRELL CREEK  single dwellings  Single dwelling houses   \n",
       "1      2323       TENAMBIT  single dwellings  Single dwelling houses   \n",
       "2      2758      KURRAJONG  single dwellings  Single dwelling houses   \n",
       "3      2583          TUENA  single dwellings  Single dwelling houses   \n",
       "4      2320        TELARAH  single dwellings  Single dwelling houses   \n",
       "\n",
       "       HOTWATER SYSTEM TYPE HWS RATING (STARS/RECS)         ...          \\\n",
       "0  solar (electric boosted)           26 to 30 RECs         ...           \n",
       "1               gas storage                  5 star         ...           \n",
       "2  solar (electric boosted)           41 to 45 RECs         ...           \n",
       "3  solar (electric boosted)           41 to 45 RECs         ...           \n",
       "4         gas instantaneous                  5 star         ...           \n",
       "\n",
       "  HEATING RATING - BEDROOMS (STARS/RECS)   COOLING TYPE - BEDROOMS  \\\n",
       "0                          EER 3.0 - 3.5   3-phase airconditioning   \n",
       "1                                    NaN  no active cooling system   \n",
       "2                                    NaN  no active cooling system   \n",
       "3                                 6 Star              ceiling fans   \n",
       "4                                    NaN  no active cooling system   \n",
       "\n",
       "  COOLING RATING - BEDROOMS (STARS/RECS)            COOKTOP/OVEN SELECTION  \\\n",
       "0                          EER 2.5 - 3.0  electric cooktop & electric oven   \n",
       "1                                    NaN  electric cooktop & electric oven   \n",
       "2                                    NaN  electric cooktop & electric oven   \n",
       "3                                    NaN            gas cooktop & gas oven   \n",
       "4                                    NaN       gas cooktop & electric oven   \n",
       "\n",
       "  PV (kW) NUMBER LIVING AREAS LIT WITH ENERGY EFFICIENT LIGHTING  \\\n",
       "0     NaN                                                NaN       \n",
       "1     NaN                                                NaN       \n",
       "2     NaN                                                3.0       \n",
       "3     NaN                                                2.0       \n",
       "4     NaN                                                2.0       \n",
       "\n",
       "  KITCHEN LIT WITH ENERGY EFFICIENT LIGHTING  \\\n",
       "0                                        NaN   \n",
       "1                                        NaN   \n",
       "2                                       True   \n",
       "3                                       True   \n",
       "4                                       True   \n",
       "\n",
       "  NUMBER BEDROOMS LIT WITH ENERGY EFFICIENT LIGHTING POOL HEATING SYSTEM  \\\n",
       "0                                                NaN       please select   \n",
       "1                                                NaN       please select   \n",
       "2                                                6.0          no heating   \n",
       "3                                                4.0       please select   \n",
       "4                                                3.0       please select   \n",
       "\n",
       "   SPA HEATING SYSTEM  \n",
       "0       please select  \n",
       "1       please select  \n",
       "2       please select  \n",
       "3       please select  \n",
       "4       please select  \n",
       "\n",
       "[5 rows x 25 columns]"
      ]
     },
     "execution_count": 20,
     "metadata": {},
     "output_type": "execute_result"
    }
   ],
   "source": [
    "energy.head()"
   ]
  },
  {
   "cell_type": "code",
   "execution_count": 21,
   "metadata": {
    "collapsed": false,
    "deletable": true,
    "editable": true,
    "scrolled": false
   },
   "outputs": [
    {
     "data": {
      "text/plain": [
       "Index([u'Id', u'CERTIFICATE DATE', u'REGION', u'LGA', u'POSTCODE', u'SUBURB',\n",
       "       u'DATA SET', u'DWELLING TYPE', u'HOTWATER SYSTEM TYPE',\n",
       "       u'HWS RATING (STARS/RECS)', u'HEATING TYPE - LIVING AREA',\n",
       "       u'HEATING RATING - LIVING AREA (STARS/RECS)',\n",
       "       u'COOLING TYPE - LIVING AREA',\n",
       "       u'COOLING RATING - LIVING AREA (STARS/RECS)',\n",
       "       u'HEATING TYPE - BEDROOMS', u'HEATING RATING - BEDROOMS (STARS/RECS)',\n",
       "       u'COOLING TYPE - BEDROOMS', u'COOLING RATING - BEDROOMS (STARS/RECS)',\n",
       "       u'COOKTOP/OVEN SELECTION', u'PV (kW)',\n",
       "       u'NUMBER LIVING AREAS LIT WITH ENERGY EFFICIENT LIGHTING',\n",
       "       u'KITCHEN LIT WITH ENERGY EFFICIENT LIGHTING',\n",
       "       u'NUMBER BEDROOMS LIT WITH ENERGY EFFICIENT LIGHTING',\n",
       "       u'POOL HEATING SYSTEM', u'SPA HEATING SYSTEM'],\n",
       "      dtype='object')"
      ]
     },
     "execution_count": 21,
     "metadata": {},
     "output_type": "execute_result"
    }
   ],
   "source": [
    "energy.columns"
   ]
  },
  {
   "cell_type": "code",
   "execution_count": 22,
   "metadata": {
    "collapsed": false,
    "deletable": true,
    "editable": true
   },
   "outputs": [
    {
     "data": {
      "text/plain": [
       "<matplotlib.axes._subplots.AxesSubplot at 0x7ffab7173cd0>"
      ]
     },
     "execution_count": 22,
     "metadata": {},
     "output_type": "execute_result"
    },
    {
     "data": {
      "image/png": "[encoded data removed]",
      "text/plain": [
       "<matplotlib.figure.Figure at 0x7ffab8549790>"
      ]
     },
     "metadata": {},
     "output_type": "display_data"
    }
   ],
   "source": [
    "energy[\"HOTWATER SYSTEM TYPE\"].value_counts().plot(kind=\"bar\")"
   ]
  },
  {
   "cell_type": "code",
   "execution_count": 23,
   "metadata": {
    "collapsed": false,
    "deletable": true,
    "editable": true
   },
   "outputs": [
    {
     "data": {
      "text/plain": [
       "<matplotlib.axes._subplots.AxesSubplot at 0x7ffab7181610>"
      ]
     },
     "execution_count": 23,
     "metadata": {},
     "output_type": "execute_result"
    },
    {
     "data": {
      "image/png": "[encoded data removed]",
      "text/plain": [
       "<matplotlib.figure.Figure at 0x7ffab7355b90>"
      ]
     },
     "metadata": {},
     "output_type": "display_data"
    }
   ],
   "source": [
    "energy[\"HWS RATING (STARS/RECS)\"].value_counts().plot(kind=\"bar\")"
   ]
  },
  {
   "cell_type": "code",
   "execution_count": null,
   "metadata": {
    "collapsed": true,
    "deletable": true,
    "editable": true
   },
   "outputs": [],
   "source": []
  }
 ],
 "metadata": {
  "kernelspec": {
   "display_name": "Python 2",
   "language": "python",
   "name": "python2"
  },
  "language_info": {
   "codemirror_mode": {
    "name": "ipython",
    "version": 2
   },
   "file_extension": ".py",
   "mimetype": "text/x-python",
   "name": "python",
   "nbconvert_exporter": "python",
   "pygments_lexer": "ipython2",
   "version": "2.7.12"
  }
 },
 "nbformat": 4,
 "nbformat_minor": 2
}
